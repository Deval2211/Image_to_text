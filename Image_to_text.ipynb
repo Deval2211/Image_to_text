{
  "nbformat": 4,
  "nbformat_minor": 0,
  "metadata": {
    "colab": {
      "provenance": [],
      "gpuType": "T4"
    },
    "kernelspec": {
      "name": "python3",
      "display_name": "Python 3"
    },
    "language_info": {
      "name": "python"
    },
    "accelerator": "GPU"
  },
  "cells": [
    {
      "cell_type": "code",
      "source": [
        "# Install necessary libraries\n",
        "!pip install pytesseract Pillow\n",
        "!apt install tesseract-ocr\n",
        "!pip install PyMuPDF  # Install PyMuPDF to potentially handle PDFs\n",
        "\n",
        "import pytesseract\n",
        "from PIL import Image\n",
        "from google.colab import files\n",
        "import io\n",
        "import os # Import os module for path manipulation\n",
        "import fitz # Import fitz from PyMuPDF\n",
        "\n",
        "# Upload multiple images\n"
      ],
      "metadata": {
        "id": "8pRvLuzriHFv"
      },
      "execution_count": null,
      "outputs": []
    },
    {
      "cell_type": "code",
      "source": [
        "uploaded = files.upload()"
      ],
      "metadata": {
        "id": "UdmOBzANFMRx"
      },
      "execution_count": null,
      "outputs": []
    },
    {
      "cell_type": "code",
      "source": [
        "print(\"Extracting text from uploaded files...\\n\")\n",
        "\n",
        "# Get the list of file names\n",
        "file_names = list(uploaded.keys())\n",
        "num_files = len(file_names)\n",
        "\n",
        "for index, file_name in enumerate(file_names):\n",
        "    print(f\"Processing file: {file_name}\")\n",
        "\n",
        "    # Check file extension to determine if it's an image\n",
        "    file_extension = os.path.splitext(file_name)[1].lower()\n",
        "\n",
        "    if file_extension in ['.jpg', '.jpeg', '.png', '.tif', '.tiff']:\n",
        "        print(f\"------ Text from Image: {file_name} ------\")\n",
        "        try:\n",
        "            # Open image\n",
        "            image = Image.open(io.BytesIO(uploaded[file_name]))\n",
        "\n",
        "            # Extract text using pytesseract\n",
        "            text = pytesseract.image_to_string(image)\n",
        "\n",
        "            print(text)\n",
        "        except Exception as e:\n",
        "            print(f\"Error processing image {file_name}: {e}\")\n",
        "    elif file_extension == '.pdf':\n",
        "        print(f\"------ Text from PDF: {file_name} ------\")\n",
        "        try:\n",
        "            # You would need a PDF processing library here.\n",
        "            # Example using PyMuPDF to extract text from PDF pages:\n",
        "            pdf_document = fitz.open(stream=uploaded[file_name], filetype=\"pdf\")\n",
        "            pdf_text = \"\"\n",
        "            for page_num in range(pdf_document.page_count):\n",
        "                page = pdf_document.load_page(page_num)\n",
        "                pdf_text += page.get_text()\n",
        "            print(pdf_text)\n",
        "        except Exception as e:\n",
        "             print(f\"Error processing PDF {file_name}: {e}\")\n",
        "    else:\n",
        "        print(f\"Skipping non-image/non-PDF file: {file_name}\")\n",
        "\n",
        "    # Print separator only if there is more than one file and it's not the last file\n",
        "    if num_files > 1 and index < num_files - 1:\n",
        "        print(\"\\n================ New File Text ===================\\n\")\n",
        "\n",
        "# %%\n",
       
      ],
      "metadata": {
        "id": "OgEWbWNCGApo"
      },
      "execution_count": null,
      "outputs": []
    },
    {
      "cell_type": "code",
      "source": [
        "import os\n",
        "\n",
        "# Remove the specifically uploaded files\n",
        "for file_name in file_names:\n",
        "    try:\n",
        "        os.remove(file_name)\n",
        "        print(f\"Removed: {file_name}\")\n",
        "    except OSError as e:\n",
        "        print(f\"Error removing file {file_name}: {e}\")"
      ],
      "metadata": {
        "id": "aHW0hK9lHXs-"
      },
      "execution_count": null,
      "outputs": []
    },
    {
      "cell_type": "code",
      "source": [],
      "metadata": {
        "id": "D-00yxEPHay1"
      },
      "execution_count": null,
      "outputs": []
    }
  ]
}
